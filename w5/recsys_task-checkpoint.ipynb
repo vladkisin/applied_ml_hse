{
 "cells": [
  {
   "cell_type": "markdown",
   "metadata": {},
   "source": [
    "# Your own recommender system"
   ]
  },
  {
   "cell_type": "markdown",
   "metadata": {},
   "source": [
    "In this task we will take a look at music recommendations.\n",
    "\n",
    "You will compare iALS with item-based recommendations and a simple bestsellers baseline by NDCG."
   ]
  },
  {
   "cell_type": "markdown",
   "metadata": {},
   "source": [
    "# Imports"
   ]
  },
  {
   "cell_type": "code",
   "execution_count": 3,
   "metadata": {},
   "outputs": [
    {
     "name": "stdout",
     "output_type": "stream",
     "text": [
      "env: OPENBLAS_NUM_THREADS=1\n"
     ]
    }
   ],
   "source": [
    "%config IPCompleter.greedy=True\n",
    "%env OPENBLAS_NUM_THREADS=1\n",
    "import pandas as pd\n",
    "import implicit\n",
    "from sklearn.model_selection import train_test_split\n",
    "import scipy.sparse as sps\n",
    "import numpy as np\n",
    "import matplotlib.pyplot as plt\n",
    "import tqdm\n",
    "from collections import defaultdict"
   ]
  },
  {
   "cell_type": "markdown",
   "metadata": {},
   "source": [
    "# Yandex.Music dataset"
   ]
  },
  {
   "cell_type": "markdown",
   "metadata": {},
   "source": [
    "# Loading dataset"
   ]
  },
  {
   "cell_type": "code",
   "execution_count": 4,
   "metadata": {},
   "outputs": [
    {
     "name": "stdout",
     "output_type": "stream",
     "text": [
      "artistId       int64\n",
      "artistName    object\n",
      "dtype: object\n"
     ]
    },
    {
     "data": {
      "text/html": [
       "<div>\n",
       "<style scoped>\n",
       "    .dataframe tbody tr th:only-of-type {\n",
       "        vertical-align: middle;\n",
       "    }\n",
       "\n",
       "    .dataframe tbody tr th {\n",
       "        vertical-align: top;\n",
       "    }\n",
       "\n",
       "    .dataframe thead th {\n",
       "        text-align: right;\n",
       "    }\n",
       "</style>\n",
       "<table border=\"1\" class=\"dataframe\">\n",
       "  <thead>\n",
       "    <tr style=\"text-align: right;\">\n",
       "      <th></th>\n",
       "      <th>artistId</th>\n",
       "      <th>artistName</th>\n",
       "    </tr>\n",
       "  </thead>\n",
       "  <tbody>\n",
       "    <tr>\n",
       "      <th>0</th>\n",
       "      <td>0</td>\n",
       "      <td>Mack Gordon</td>\n",
       "    </tr>\n",
       "    <tr>\n",
       "      <th>1</th>\n",
       "      <td>1</td>\n",
       "      <td>Kenny Dorham</td>\n",
       "    </tr>\n",
       "    <tr>\n",
       "      <th>2</th>\n",
       "      <td>2</td>\n",
       "      <td>Max Roach</td>\n",
       "    </tr>\n",
       "    <tr>\n",
       "      <th>3</th>\n",
       "      <td>3</td>\n",
       "      <td>Francis Rossi</td>\n",
       "    </tr>\n",
       "    <tr>\n",
       "      <th>4</th>\n",
       "      <td>4</td>\n",
       "      <td>Status Quo</td>\n",
       "    </tr>\n",
       "  </tbody>\n",
       "</table>\n",
       "</div>"
      ],
      "text/plain": [
       "   artistId     artistName\n",
       "0         0    Mack Gordon\n",
       "1         1   Kenny Dorham\n",
       "2         2      Max Roach\n",
       "3         3  Francis Rossi\n",
       "4         4     Status Quo"
      ]
     },
     "execution_count": 4,
     "metadata": {},
     "output_type": "execute_result"
    }
   ],
   "source": [
    "artists = pd.read_json(\"artists.jsonl\", orient='records', lines=True)\n",
    "print(artists.dtypes)\n",
    "artists.head(5)"
   ]
  },
  {
   "cell_type": "code",
   "execution_count": 5,
   "metadata": {},
   "outputs": [
    {
     "name": "stdout",
     "output_type": "stream",
     "text": [
      "userId      int64\n",
      "artistId    int64\n",
      "plays       int64\n",
      "skips       int64\n",
      "dtype: object\n"
     ]
    },
    {
     "data": {
      "text/html": [
       "<div>\n",
       "<style scoped>\n",
       "    .dataframe tbody tr th:only-of-type {\n",
       "        vertical-align: middle;\n",
       "    }\n",
       "\n",
       "    .dataframe tbody tr th {\n",
       "        vertical-align: top;\n",
       "    }\n",
       "\n",
       "    .dataframe thead th {\n",
       "        text-align: right;\n",
       "    }\n",
       "</style>\n",
       "<table border=\"1\" class=\"dataframe\">\n",
       "  <thead>\n",
       "    <tr style=\"text-align: right;\">\n",
       "      <th></th>\n",
       "      <th>userId</th>\n",
       "      <th>artistId</th>\n",
       "      <th>plays</th>\n",
       "      <th>skips</th>\n",
       "    </tr>\n",
       "  </thead>\n",
       "  <tbody>\n",
       "    <tr>\n",
       "      <th>0</th>\n",
       "      <td>0</td>\n",
       "      <td>335</td>\n",
       "      <td>1</td>\n",
       "      <td>0</td>\n",
       "    </tr>\n",
       "    <tr>\n",
       "      <th>1</th>\n",
       "      <td>0</td>\n",
       "      <td>708</td>\n",
       "      <td>1</td>\n",
       "      <td>0</td>\n",
       "    </tr>\n",
       "    <tr>\n",
       "      <th>2</th>\n",
       "      <td>0</td>\n",
       "      <td>710</td>\n",
       "      <td>2</td>\n",
       "      <td>1</td>\n",
       "    </tr>\n",
       "    <tr>\n",
       "      <th>3</th>\n",
       "      <td>0</td>\n",
       "      <td>815</td>\n",
       "      <td>1</td>\n",
       "      <td>1</td>\n",
       "    </tr>\n",
       "    <tr>\n",
       "      <th>4</th>\n",
       "      <td>0</td>\n",
       "      <td>880</td>\n",
       "      <td>1</td>\n",
       "      <td>1</td>\n",
       "    </tr>\n",
       "  </tbody>\n",
       "</table>\n",
       "</div>"
      ],
      "text/plain": [
       "   userId  artistId  plays  skips\n",
       "0       0       335      1      0\n",
       "1       0       708      1      0\n",
       "2       0       710      2      1\n",
       "3       0       815      1      1\n",
       "4       0       880      1      1"
      ]
     },
     "execution_count": 5,
     "metadata": {},
     "output_type": "execute_result"
    }
   ],
   "source": [
    "events = pd.read_csv(\"events.csv\")\n",
    "print(events.dtypes)\n",
    "events.head()"
   ]
  },
  {
   "cell_type": "code",
   "execution_count": 6,
   "metadata": {},
   "outputs": [
    {
     "name": "stdout",
     "output_type": "stream",
     "text": [
      "users: 4999\n",
      "items: 53031\n",
      "interactions: 3412504\n",
      "density: 0.012872420423252307\n"
     ]
    }
   ],
   "source": [
    "# statistics\n",
    "print(\"users:\", len(set(events.userId)))\n",
    "print(\"items:\", len(set(events.artistId)))\n",
    "print(\"interactions:\", len(events))\n",
    "print(\"density:\", len(events) / (len(set(events.userId)) * len(set(events.artistId))))"
   ]
  },
  {
   "cell_type": "code",
   "execution_count": 7,
   "metadata": {},
   "outputs": [
    {
     "data": {
      "text/html": [
       "<div>\n",
       "<style scoped>\n",
       "    .dataframe tbody tr th:only-of-type {\n",
       "        vertical-align: middle;\n",
       "    }\n",
       "\n",
       "    .dataframe tbody tr th {\n",
       "        vertical-align: top;\n",
       "    }\n",
       "\n",
       "    .dataframe thead th {\n",
       "        text-align: right;\n",
       "    }\n",
       "</style>\n",
       "<table border=\"1\" class=\"dataframe\">\n",
       "  <thead>\n",
       "    <tr style=\"text-align: right;\">\n",
       "      <th></th>\n",
       "      <th>plays</th>\n",
       "    </tr>\n",
       "    <tr>\n",
       "      <th>artistName</th>\n",
       "      <th></th>\n",
       "    </tr>\n",
       "  </thead>\n",
       "  <tbody>\n",
       "    <tr>\n",
       "      <th>Imagine Dragons</th>\n",
       "      <td>43447</td>\n",
       "    </tr>\n",
       "    <tr>\n",
       "      <th>Би-2</th>\n",
       "      <td>29415</td>\n",
       "    </tr>\n",
       "    <tr>\n",
       "      <th>Баста</th>\n",
       "      <td>27264</td>\n",
       "    </tr>\n",
       "    <tr>\n",
       "      <th>Ленинград</th>\n",
       "      <td>26311</td>\n",
       "    </tr>\n",
       "    <tr>\n",
       "      <th>Сплин</th>\n",
       "      <td>25062</td>\n",
       "    </tr>\n",
       "    <tr>\n",
       "      <th>Queen</th>\n",
       "      <td>24905</td>\n",
       "    </tr>\n",
       "    <tr>\n",
       "      <th>Sia</th>\n",
       "      <td>22803</td>\n",
       "    </tr>\n",
       "    <tr>\n",
       "      <th>LOBODA</th>\n",
       "      <td>21923</td>\n",
       "    </tr>\n",
       "    <tr>\n",
       "      <th>Noize MC</th>\n",
       "      <td>21774</td>\n",
       "    </tr>\n",
       "    <tr>\n",
       "      <th>Linkin Park</th>\n",
       "      <td>21584</td>\n",
       "    </tr>\n",
       "  </tbody>\n",
       "</table>\n",
       "</div>"
      ],
      "text/plain": [
       "                 plays\n",
       "artistName            \n",
       "Imagine Dragons  43447\n",
       "Би-2             29415\n",
       "Баста            27264\n",
       "Ленинград        26311\n",
       "Сплин            25062\n",
       "Queen            24905\n",
       "Sia              22803\n",
       "LOBODA           21923\n",
       "Noize MC         21774\n",
       "Linkin Park      21584"
      ]
     },
     "execution_count": 7,
     "metadata": {},
     "output_type": "execute_result"
    }
   ],
   "source": [
    "# most popular artists\n",
    "(\n",
    "    events\n",
    "    .merge(artists)[['artistName', 'plays']]\n",
    "    .groupby(\"artistName\").sum()\n",
    "    .sort_values('plays', ascending=False)\n",
    "    .head(10)\n",
    ")"
   ]
  },
  {
   "cell_type": "code",
   "execution_count": 8,
   "metadata": {},
   "outputs": [
    {
     "name": "stdout",
     "output_type": "stream",
     "text": [
      "(3241878, 4)\n",
      "(170626, 4)\n"
     ]
    }
   ],
   "source": [
    "# train / test split\n",
    "train, test = train_test_split(events, test_size=0.05, random_state=0)\n",
    "print(train.shape)\n",
    "print(test.shape)"
   ]
  },
  {
   "cell_type": "code",
   "execution_count": 9,
   "metadata": {},
   "outputs": [
    {
     "data": {
      "image/png": "[encoded data removed]",
      "text/plain": [
       "<Figure size 432x288 with 1 Axes>"
      ]
     },
     "metadata": {
      "needs_background": "light"
     },
     "output_type": "display_data"
    }
   ],
   "source": [
    "# number of artists per user in the test set\n",
    "_ = plt.hist(test.groupby('userId').count()['plays'], bins=100)"
   ]
  },
  {
   "cell_type": "code",
   "execution_count": 11,
   "metadata": {},
   "outputs": [
    {
     "data": {
      "text/html": [
       "<div>\n",
       "<style scoped>\n",
       "    .dataframe tbody tr th:only-of-type {\n",
       "        vertical-align: middle;\n",
       "    }\n",
       "\n",
       "    .dataframe tbody tr th {\n",
       "        vertical-align: top;\n",
       "    }\n",
       "\n",
       "    .dataframe thead th {\n",
       "        text-align: right;\n",
       "    }\n",
       "</style>\n",
       "<table border=\"1\" class=\"dataframe\">\n",
       "  <thead>\n",
       "    <tr style=\"text-align: right;\">\n",
       "      <th></th>\n",
       "      <th>userId</th>\n",
       "      <th>artistId</th>\n",
       "      <th>plays</th>\n",
       "      <th>skips</th>\n",
       "    </tr>\n",
       "  </thead>\n",
       "  <tbody>\n",
       "    <tr>\n",
       "      <th>2306094</th>\n",
       "      <td>0</td>\n",
       "      <td>70382</td>\n",
       "      <td>0</td>\n",
       "      <td>1</td>\n",
       "    </tr>\n",
       "    <tr>\n",
       "      <th>2305946</th>\n",
       "      <td>0</td>\n",
       "      <td>32428</td>\n",
       "      <td>0</td>\n",
       "      <td>1</td>\n",
       "    </tr>\n",
       "    <tr>\n",
       "      <th>289</th>\n",
       "      <td>0</td>\n",
       "      <td>54654</td>\n",
       "      <td>7</td>\n",
       "      <td>3</td>\n",
       "    </tr>\n",
       "    <tr>\n",
       "      <th>208</th>\n",
       "      <td>0</td>\n",
       "      <td>1231</td>\n",
       "      <td>1</td>\n",
       "      <td>0</td>\n",
       "    </tr>\n",
       "    <tr>\n",
       "      <th>210</th>\n",
       "      <td>0</td>\n",
       "      <td>69612</td>\n",
       "      <td>1</td>\n",
       "      <td>0</td>\n",
       "    </tr>\n",
       "    <tr>\n",
       "      <th>...</th>\n",
       "      <td>...</td>\n",
       "      <td>...</td>\n",
       "      <td>...</td>\n",
       "      <td>...</td>\n",
       "    </tr>\n",
       "    <tr>\n",
       "      <th>2844306</th>\n",
       "      <td>4998</td>\n",
       "      <td>56701</td>\n",
       "      <td>0</td>\n",
       "      <td>2</td>\n",
       "    </tr>\n",
       "    <tr>\n",
       "      <th>2844321</th>\n",
       "      <td>4998</td>\n",
       "      <td>40670</td>\n",
       "      <td>0</td>\n",
       "      <td>1</td>\n",
       "    </tr>\n",
       "    <tr>\n",
       "      <th>2844223</th>\n",
       "      <td>4998</td>\n",
       "      <td>1897</td>\n",
       "      <td>0</td>\n",
       "      <td>2</td>\n",
       "    </tr>\n",
       "    <tr>\n",
       "      <th>2844312</th>\n",
       "      <td>4998</td>\n",
       "      <td>53743</td>\n",
       "      <td>0</td>\n",
       "      <td>1</td>\n",
       "    </tr>\n",
       "    <tr>\n",
       "      <th>2844331</th>\n",
       "      <td>4998</td>\n",
       "      <td>12923</td>\n",
       "      <td>0</td>\n",
       "      <td>1</td>\n",
       "    </tr>\n",
       "  </tbody>\n",
       "</table>\n",
       "<p>170626 rows × 4 columns</p>\n",
       "</div>"
      ],
      "text/plain": [
       "         userId  artistId  plays  skips\n",
       "2306094       0     70382      0      1\n",
       "2305946       0     32428      0      1\n",
       "289           0     54654      7      3\n",
       "208           0      1231      1      0\n",
       "210           0     69612      1      0\n",
       "...         ...       ...    ...    ...\n",
       "2844306    4998     56701      0      2\n",
       "2844321    4998     40670      0      1\n",
       "2844223    4998      1897      0      2\n",
       "2844312    4998     53743      0      1\n",
       "2844331    4998     12923      0      1\n",
       "\n",
       "[170626 rows x 4 columns]"
      ]
     },
     "execution_count": 11,
     "metadata": {},
     "output_type": "execute_result"
    }
   ],
   "source": [
    "test.sort_values('userId')"
   ]
  },
  {
   "cell_type": "markdown",
   "metadata": {},
   "source": [
    "# Train iALS\n",
    "\n",
    "Let's say that confidence is `1 + 10 * log2(plays + 1)`"
   ]
  },
  {
   "cell_type": "code",
   "execution_count": 122,
   "metadata": {},
   "outputs": [
    {
     "data": {
      "text/plain": [
       "<4999x70818 sparse matrix of type '<class 'numpy.float64'>'\n",
       "\twith 3241878 stored elements in Compressed Sparse Column format>"
      ]
     },
     "execution_count": 122,
     "metadata": {},
     "output_type": "execute_result"
    }
   ],
   "source": [
    "# prepare matrix for implicit library (https://implicit.readthedocs.io/en/latest/models.html)\n",
    "# item_user (sparse csr_matrix) of item/user/confidence\n",
    "# csc_matrix((data, (row_ind, col_ind)), [shape=(M, N)])\n",
    "#     where ``data``, ``row_ind`` and ``col_ind`` satisfy the\n",
    "#     relationship ``a[row_ind[k], col_ind[k]] = data[k]``.\n",
    "\n",
    "item_user_train = sps.csc_matrix((1 + 10 * np.log2(train.plays + 1), (train.userId, train.artistId)))\n",
    "item_user_train"
   ]
  },
  {
   "cell_type": "code",
   "execution_count": 123,
   "metadata": {},
   "outputs": [
    {
     "name": "stderr",
     "output_type": "stream",
     "text": [
      "C:\\Users\\Uladzislau_Kisin\\Anaconda\\envs\\datascrap\\lib\\site-packages\\implicit\\utils.py:141: ParameterWarning: Method expects CSR input, and was passed csc_matrix instead. Converting to CSR took 0.03942155838012695 seconds\n",
      "  ParameterWarning,\n"
     ]
    },
    {
     "data": {
      "application/vnd.jupyter.widget-view+json": {
       "model_id": "c74b21d426064bfbace9a75a312568d9",
       "version_major": 2,
       "version_minor": 0
      },
      "text/plain": [
       "  0%|          | 0/10 [00:00<?, ?it/s]"
      ]
     },
     "metadata": {},
     "output_type": "display_data"
    },
    {
     "name": "stdout",
     "output_type": "stream",
     "text": [
      "Wall time: 2.33 s\n"
     ]
    }
   ],
   "source": [
    "%%time\n",
    "model = implicit.als.AlternatingLeastSquares(factors=32, iterations=10, random_state=0)\n",
    "model.fit(item_user_train)"
   ]
  },
  {
   "cell_type": "markdown",
   "metadata": {},
   "source": [
    "# Similar artists (via iALS)\n",
    "\n",
    "Let's find similar artists by cosine between their embeddings"
   ]
  },
  {
   "cell_type": "code",
   "execution_count": 124,
   "metadata": {},
   "outputs": [
    {
     "data": {
      "text/html": [
       "<div>\n",
       "<style scoped>\n",
       "    .dataframe tbody tr th:only-of-type {\n",
       "        vertical-align: middle;\n",
       "    }\n",
       "\n",
       "    .dataframe tbody tr th {\n",
       "        vertical-align: top;\n",
       "    }\n",
       "\n",
       "    .dataframe thead th {\n",
       "        text-align: right;\n",
       "    }\n",
       "</style>\n",
       "<table border=\"1\" class=\"dataframe\">\n",
       "  <thead>\n",
       "    <tr style=\"text-align: right;\">\n",
       "      <th></th>\n",
       "      <th>artistId</th>\n",
       "      <th>artistName</th>\n",
       "    </tr>\n",
       "  </thead>\n",
       "  <tbody>\n",
       "    <tr>\n",
       "      <th>404</th>\n",
       "      <td>404</td>\n",
       "      <td>Coldplay</td>\n",
       "    </tr>\n",
       "    <tr>\n",
       "      <th>647</th>\n",
       "      <td>647</td>\n",
       "      <td>50 Cent</td>\n",
       "    </tr>\n",
       "    <tr>\n",
       "      <th>33965</th>\n",
       "      <td>33965</td>\n",
       "      <td>AC/DC</td>\n",
       "    </tr>\n",
       "  </tbody>\n",
       "</table>\n",
       "</div>"
      ],
      "text/plain": [
       "       artistId artistName\n",
       "404         404   Coldplay\n",
       "647         647    50 Cent\n",
       "33965     33965      AC/DC"
      ]
     },
     "execution_count": 124,
     "metadata": {},
     "output_type": "execute_result"
    }
   ],
   "source": [
    "target_artists = artists[artists.artistName.isin(['Coldplay', '50 Cent', 'AC/DC'])]\n",
    "target_artists"
   ]
  },
  {
   "cell_type": "code",
   "execution_count": 125,
   "metadata": {},
   "outputs": [
    {
     "name": "stdout",
     "output_type": "stream",
     "text": [
      "############# Coldplay #############\n",
      "Coldplay \t 1.0\n",
      "Lana Del Rey \t 0.988352\n",
      "OneRepublic \t 0.9833067\n",
      "Adele \t 0.97821563\n",
      "Maroon 5 \t 0.9776462\n",
      "############# 50 Cent #############\n",
      "50 Cent \t 0.9999999\n",
      "Dr. Dre \t 0.92831224\n",
      "2Chainz \t 0.90799195\n",
      "Lil Jon \t 0.8977988\n",
      "Akon \t 0.8968725\n",
      "############# AC/DC #############\n",
      "AC/DC \t 1.0\n",
      "The Offspring \t 0.95381045\n",
      "Red Hot Chili Peppers \t 0.9477082\n",
      "Nirvana \t 0.9461823\n",
      "Metallica \t 0.9438701\n"
     ]
    }
   ],
   "source": [
    "artist_to_name = dict(zip(artists.artistId, artists.artistName))\n",
    "for _, row in target_artists.iterrows():\n",
    "    print(\"#############\", row.artistName, \"#############\")\n",
    "    for a ,s in zip(*model.similar_items(row.artistId, N=5)):\n",
    "        print(artist_to_name[a], \"\\t\", s)"
   ]
  },
  {
   "cell_type": "markdown",
   "metadata": {},
   "source": [
    "# NDCG metric"
   ]
  },
  {
   "cell_type": "code",
   "execution_count": 126,
   "metadata": {},
   "outputs": [],
   "source": [
    "from sklearn.metrics import ndcg_score"
   ]
  },
  {
   "cell_type": "code",
   "execution_count": 127,
   "metadata": {},
   "outputs": [
    {
     "name": "stdout",
     "output_type": "stream",
     "text": [
      "0.9502344167898358\n",
      "0.9502344167898358\n"
     ]
    }
   ],
   "source": [
    "# how ndcg works in sklearn (true scores are used without exponentiation)\n",
    "print(ndcg_score(y_true=[[  0,   0,   2,   1,   0]], \n",
    "                 y_score=[[0.2, 0.1, 0.5, 0.3, 0.4]]))\n",
    "print((2 / np.log(1 + 1) + 1 / np.log(3 + 1)) / \n",
    "      (2 / np.log(1 + 1) + 1 / np.log(2 + 1)))"
   ]
  },
  {
   "cell_type": "markdown",
   "metadata": {},
   "source": [
    "# NDCG for baseline\n",
    "\n",
    "__q1: Let's compute NDCG for non-personalized baseline on the test set.__\n",
    "\n",
    "Let's say that we rank test artists for each user by their global popularity (the sum of plays in the training dataset).\n",
    "\n",
    "_Make sure to compute NDCG only for users with at least 2 different artists in the test set._"
   ]
  },
  {
   "cell_type": "code",
   "execution_count": 153,
   "metadata": {},
   "outputs": [],
   "source": [
    "artists_by_user = test.groupby('userId', as_index=False)['artistId'].apply(len)\n",
    "eligible_test = test[test['userId'].isin(artists_by_user[artists_by_user['artistId'] > 1].userId.values)]\n"
   ]
  },
  {
   "cell_type": "code",
   "execution_count": 154,
   "metadata": {},
   "outputs": [],
   "source": [
    "plays = train.groupby('artistId', as_index=False)['plays'].sum()\n",
    "test_pred = pd.merge(eligible_test, plays, on='artistId', how='left').fillna(0)\n",
    "test_pred.sort_values('plays_y', ascending=False, inplace=True)"
   ]
  },
  {
   "cell_type": "code",
   "execution_count": 155,
   "metadata": {
    "scrolled": true
   },
   "outputs": [
    {
     "data": {
      "text/plain": [
       "0.6611500770764904"
      ]
     },
     "execution_count": 155,
     "metadata": {},
     "output_type": "execute_result"
    }
   ],
   "source": [
    "test_pred.groupby('userId').apply(lambda group: ndcg_score([group['plays_x']], [group['plays_y']])).mean()"
   ]
  },
  {
   "cell_type": "markdown",
   "metadata": {},
   "source": [
    "# NDCG for iALS\n",
    "\n",
    "__q2: Now let's replace global popularity with iALS prediction for each user.__\n",
    "\n",
    "_Make sure to compute NDCG only for users with at least 2 different artists in the test set._"
   ]
  },
  {
   "cell_type": "code",
   "execution_count": 156,
   "metadata": {},
   "outputs": [
    {
     "name": "stdout",
     "output_type": "stream",
     "text": [
      "-0.00015686452\n"
     ]
    }
   ],
   "source": [
    "# prediction for user 100 and item 200 (a simple dot product):\n",
    "print(model.user_factors[100].dot(model.item_factors[200]))"
   ]
  },
  {
   "cell_type": "code",
   "execution_count": 160,
   "metadata": {},
   "outputs": [],
   "source": [
    "test_pred = eligible_test.copy()\n",
    "\n",
    "test_pred['score'] = (model.user_factors[eligible_test['userId']] * model.item_factors[eligible_test['artistId']]).sum(axis=1)"
   ]
  },
  {
   "cell_type": "code",
   "execution_count": 162,
   "metadata": {},
   "outputs": [
    {
     "data": {
      "text/plain": [
       "0.7094762818843176"
      ]
     },
     "execution_count": 162,
     "metadata": {},
     "output_type": "execute_result"
    }
   ],
   "source": [
    "test_pred.groupby('userId').apply(lambda group: ndcg_score([group['plays']], [group['score']])).mean()"
   ]
  },
  {
   "cell_type": "code",
   "execution_count": null,
   "metadata": {},
   "outputs": [],
   "source": [
    "# YOUR CODE HERE"
   ]
  },
  {
   "cell_type": "markdown",
   "metadata": {},
   "source": [
    "# Jaccard similarities\n",
    "\n",
    "Let's compute Jaccard similarities for pairs of artists in the training dataset. \n",
    "\n",
    "Here're some details:\n",
    "- Take into account only artists that the user has played at least 3 times (to cut off random plays).\n",
    "- Compute jacccard similarity only for pairs that have at least 50 common users (to get confident estimates).\n",
    "\n",
    "__q3: We will use it to recommend similar artists for users in the test set, but first let's find most similar artist to \"Maroon 5\" (other than \"Maroon 5\").__"
   ]
  },
  {
   "cell_type": "code",
   "execution_count": 163,
   "metadata": {},
   "outputs": [
    {
     "data": {
      "text/html": [
       "<div>\n",
       "<style scoped>\n",
       "    .dataframe tbody tr th:only-of-type {\n",
       "        vertical-align: middle;\n",
       "    }\n",
       "\n",
       "    .dataframe tbody tr th {\n",
       "        vertical-align: top;\n",
       "    }\n",
       "\n",
       "    .dataframe thead th {\n",
       "        text-align: right;\n",
       "    }\n",
       "</style>\n",
       "<table border=\"1\" class=\"dataframe\">\n",
       "  <thead>\n",
       "    <tr style=\"text-align: right;\">\n",
       "      <th></th>\n",
       "      <th>artistId</th>\n",
       "      <th>plays</th>\n",
       "      <th>skips</th>\n",
       "    </tr>\n",
       "    <tr>\n",
       "      <th>userId</th>\n",
       "      <th></th>\n",
       "      <th></th>\n",
       "      <th></th>\n",
       "    </tr>\n",
       "  </thead>\n",
       "  <tbody>\n",
       "    <tr>\n",
       "      <th>4689</th>\n",
       "      <td>614</td>\n",
       "      <td>614</td>\n",
       "      <td>614</td>\n",
       "    </tr>\n",
       "    <tr>\n",
       "      <th>4575</th>\n",
       "      <td>550</td>\n",
       "      <td>550</td>\n",
       "      <td>550</td>\n",
       "    </tr>\n",
       "    <tr>\n",
       "      <th>3121</th>\n",
       "      <td>548</td>\n",
       "      <td>548</td>\n",
       "      <td>548</td>\n",
       "    </tr>\n",
       "    <tr>\n",
       "      <th>2266</th>\n",
       "      <td>497</td>\n",
       "      <td>497</td>\n",
       "      <td>497</td>\n",
       "    </tr>\n",
       "    <tr>\n",
       "      <th>1168</th>\n",
       "      <td>479</td>\n",
       "      <td>479</td>\n",
       "      <td>479</td>\n",
       "    </tr>\n",
       "  </tbody>\n",
       "</table>\n",
       "</div>"
      ],
      "text/plain": [
       "        artistId  plays  skips\n",
       "userId                        \n",
       "4689         614    614    614\n",
       "4575         550    550    550\n",
       "3121         548    548    548\n",
       "2266         497    497    497\n",
       "1168         479    479    479"
      ]
     },
     "execution_count": 163,
     "metadata": {},
     "output_type": "execute_result"
    }
   ],
   "source": [
    "# each user has less than N=1000 artists, so N^2 is not that big\n",
    "(\n",
    "    train[train.plays >= 3]\n",
    "    .groupby(\"userId\").count()\n",
    "    .sort_values(\"plays\", ascending=False)\n",
    "    .head(5)\n",
    ")"
   ]
  },
  {
   "cell_type": "code",
   "execution_count": 179,
   "metadata": {},
   "outputs": [],
   "source": [
    "adj_train = train[train.plays >= 3]\n",
    "\n",
    "user_sets = adj_train.groupby('artistId')['userId'].apply(set)\n",
    "\n",
    "users_nums = adj_train.groupby('artistId')['userId'].apply(len)\n",
    "sorted_idx = sorted(users_nums[users_nums >= 50].index)"
   ]
  },
  {
   "cell_type": "code",
   "execution_count": 191,
   "metadata": {},
   "outputs": [
    {
     "name": "stderr",
     "output_type": "stream",
     "text": [
      "100%|██████████████████████████████████████████████████████████████████████████████████| 2829/2829 [00:29<00:00, 97.30it/s]\n"
     ]
    }
   ],
   "source": [
    "similarities = {}\n",
    "for i in tqdm.tqdm(sorted_idx):\n",
    "    for j in sorted_idx:\n",
    "        if j > i:\n",
    "            common_users = user_sets[i].intersection(user_sets[j])\n",
    "            n_common_users = len(common_users)\n",
    "            if n_common_users >= 50:\n",
    "                similarities[(i, j)] = n_common_users / (users_nums[i] + users_nums[j] - n_common_users)\n",
    "        "
   ]
  },
  {
   "cell_type": "code",
   "execution_count": 195,
   "metadata": {},
   "outputs": [
    {
     "data": {
      "text/plain": [
       "14803"
      ]
     },
     "execution_count": 195,
     "metadata": {},
     "output_type": "execute_result"
    }
   ],
   "source": [
    "{v:k for k, v in artist_to_name.items()}['Maroon 5']"
   ]
  },
  {
   "cell_type": "code",
   "execution_count": 203,
   "metadata": {},
   "outputs": [],
   "source": [
    "max_key = None\n",
    "max_score = 0\n",
    "for key in list(filter(lambda x: x[0] == 14803 or x[1] == 14803, similarities.keys())):\n",
    "    if similarities[key] > max_score:\n",
    "        max_key = key\n",
    "        max_score = similarities[key]"
   ]
  },
  {
   "cell_type": "code",
   "execution_count": 204,
   "metadata": {},
   "outputs": [
    {
     "data": {
      "text/plain": [
       "(3568, 14803)"
      ]
     },
     "execution_count": 204,
     "metadata": {},
     "output_type": "execute_result"
    }
   ],
   "source": [
    "max_key"
   ]
  },
  {
   "cell_type": "code",
   "execution_count": 209,
   "metadata": {},
   "outputs": [
    {
     "data": {
      "text/plain": [
       "'OneRepublic'"
      ]
     },
     "execution_count": 209,
     "metadata": {},
     "output_type": "execute_result"
    }
   ],
   "source": [
    "artist_to_name[3568]"
   ]
  },
  {
   "cell_type": "code",
   "execution_count": null,
   "metadata": {},
   "outputs": [],
   "source": [
    "# YOUR CODE HERE"
   ]
  },
  {
   "cell_type": "markdown",
   "metadata": {},
   "source": [
    "# NDCG for item-based collaborative filtering (with Jaccard similarities)\n",
    "\n",
    "Let's compute our `prediction` for test `item` like follows:\n",
    "```python\n",
    "prediction = 0\n",
    "for history_item, history_plays in user_train_history:\n",
    "    prediction += jaccard[(history_item, item)] * history_plays\n",
    "```\n",
    "\n",
    "__q4: What NDCG do we have for item-based recommendations?__\n",
    "\n",
    "_Make sure to compute NDCG only for users with at least 2 different artists in the test set._"
   ]
  },
  {
   "cell_type": "code",
   "execution_count": 266,
   "metadata": {},
   "outputs": [],
   "source": [
    "item = 15996\n",
    "userId = 4881"
   ]
  },
  {
   "cell_type": "code",
   "execution_count": 267,
   "metadata": {},
   "outputs": [],
   "source": [
    "set_idx = set(sorted_idx)\n",
    "spec_train = train[(train['plays'] > 0) & (train['artistId'].isin(set_idx))]\n"
   ]
  },
  {
   "cell_type": "code",
   "execution_count": 268,
   "metadata": {},
   "outputs": [],
   "source": [
    "\n",
    "def get_prediction(item, userId):\n",
    "    prediction = 0\n",
    "    if item in set_idx:\n",
    "        for _, row in spec_train[spec_train['userId'] == userId][['artistId', 'plays']].iterrows():\n",
    "            history_item = row['artistId']\n",
    "            history_plays = row['plays']\n",
    "            i, j = min(item, history_item), max(item, history_item)\n",
    "            prediction += similarities.get((i, j), 0) * history_plays \n",
    "    return prediction"
   ]
  },
  {
   "cell_type": "code",
   "execution_count": 269,
   "metadata": {},
   "outputs": [
    {
     "data": {
      "application/vnd.jupyter.widget-view+json": {
       "model_id": "7f9e4bd82a4542e8a5293fa78820de85",
       "version_major": 2,
       "version_minor": 0
      },
      "text/plain": [
       "  0%|          | 0/170623 [00:00<?, ?it/s]"
      ]
     },
     "metadata": {},
     "output_type": "display_data"
    }
   ],
   "source": [
    "from tqdm.notebook import tqdm\n",
    "tqdm.pandas()\n",
    "\n",
    "data = eligible_test.progress_apply(lambda row: get_prediction(row['artistId'], row['userId']), axis=1)"
   ]
  },
  {
   "cell_type": "code",
   "execution_count": 271,
   "metadata": {},
   "outputs": [
    {
     "name": "stderr",
     "output_type": "stream",
     "text": [
      "C:\\Users\\Uladzislau_Kisin\\Anaconda\\envs\\datascrap\\lib\\site-packages\\ipykernel_launcher.py:1: SettingWithCopyWarning: \n",
      "A value is trying to be set on a copy of a slice from a DataFrame.\n",
      "Try using .loc[row_indexer,col_indexer] = value instead\n",
      "\n",
      "See the caveats in the documentation: https://pandas.pydata.org/pandas-docs/stable/user_guide/indexing.html#returning-a-view-versus-a-copy\n",
      "  \"\"\"Entry point for launching an IPython kernel.\n"
     ]
    }
   ],
   "source": [
    "eligible_test['score'] = data"
   ]
  },
  {
   "cell_type": "code",
   "execution_count": 273,
   "metadata": {},
   "outputs": [
    {
     "data": {
      "text/html": [
       "<div>\n",
       "<style scoped>\n",
       "    .dataframe tbody tr th:only-of-type {\n",
       "        vertical-align: middle;\n",
       "    }\n",
       "\n",
       "    .dataframe tbody tr th {\n",
       "        vertical-align: top;\n",
       "    }\n",
       "\n",
       "    .dataframe thead th {\n",
       "        text-align: right;\n",
       "    }\n",
       "</style>\n",
       "<table border=\"1\" class=\"dataframe\">\n",
       "  <thead>\n",
       "    <tr style=\"text-align: right;\">\n",
       "      <th></th>\n",
       "      <th>userId</th>\n",
       "      <th>artistId</th>\n",
       "      <th>plays</th>\n",
       "      <th>skips</th>\n",
       "      <th>score</th>\n",
       "    </tr>\n",
       "  </thead>\n",
       "  <tbody>\n",
       "    <tr>\n",
       "      <th>564228</th>\n",
       "      <td>1244</td>\n",
       "      <td>47785</td>\n",
       "      <td>1</td>\n",
       "      <td>0</td>\n",
       "      <td>0.448006</td>\n",
       "    </tr>\n",
       "    <tr>\n",
       "      <th>3388837</th>\n",
       "      <td>4881</td>\n",
       "      <td>15996</td>\n",
       "      <td>0</td>\n",
       "      <td>1</td>\n",
       "      <td>0.817342</td>\n",
       "    </tr>\n",
       "    <tr>\n",
       "      <th>676253</th>\n",
       "      <td>1496</td>\n",
       "      <td>63240</td>\n",
       "      <td>6</td>\n",
       "      <td>5</td>\n",
       "      <td>0.907122</td>\n",
       "    </tr>\n",
       "    <tr>\n",
       "      <th>549629</th>\n",
       "      <td>1211</td>\n",
       "      <td>1120</td>\n",
       "      <td>6</td>\n",
       "      <td>3</td>\n",
       "      <td>0.822933</td>\n",
       "    </tr>\n",
       "    <tr>\n",
       "      <th>503021</th>\n",
       "      <td>1105</td>\n",
       "      <td>7636</td>\n",
       "      <td>1</td>\n",
       "      <td>0</td>\n",
       "      <td>0.433399</td>\n",
       "    </tr>\n",
       "    <tr>\n",
       "      <th>...</th>\n",
       "      <td>...</td>\n",
       "      <td>...</td>\n",
       "      <td>...</td>\n",
       "      <td>...</td>\n",
       "      <td>...</td>\n",
       "    </tr>\n",
       "    <tr>\n",
       "      <th>3148855</th>\n",
       "      <td>3790</td>\n",
       "      <td>20291</td>\n",
       "      <td>0</td>\n",
       "      <td>1</td>\n",
       "      <td>0.494770</td>\n",
       "    </tr>\n",
       "    <tr>\n",
       "      <th>1352451</th>\n",
       "      <td>2962</td>\n",
       "      <td>38645</td>\n",
       "      <td>1</td>\n",
       "      <td>0</td>\n",
       "      <td>0.520408</td>\n",
       "    </tr>\n",
       "    <tr>\n",
       "      <th>2820055</th>\n",
       "      <td>2357</td>\n",
       "      <td>23579</td>\n",
       "      <td>0</td>\n",
       "      <td>4</td>\n",
       "      <td>0.991866</td>\n",
       "    </tr>\n",
       "    <tr>\n",
       "      <th>2929571</th>\n",
       "      <td>2814</td>\n",
       "      <td>36773</td>\n",
       "      <td>0</td>\n",
       "      <td>2</td>\n",
       "      <td>0.020286</td>\n",
       "    </tr>\n",
       "    <tr>\n",
       "      <th>2257451</th>\n",
       "      <td>4906</td>\n",
       "      <td>23242</td>\n",
       "      <td>1</td>\n",
       "      <td>0</td>\n",
       "      <td>0.161296</td>\n",
       "    </tr>\n",
       "  </tbody>\n",
       "</table>\n",
       "<p>170623 rows × 5 columns</p>\n",
       "</div>"
      ],
      "text/plain": [
       "         userId  artistId  plays  skips     score\n",
       "564228     1244     47785      1      0  0.448006\n",
       "3388837    4881     15996      0      1  0.817342\n",
       "676253     1496     63240      6      5  0.907122\n",
       "549629     1211      1120      6      3  0.822933\n",
       "503021     1105      7636      1      0  0.433399\n",
       "...         ...       ...    ...    ...       ...\n",
       "3148855    3790     20291      0      1  0.494770\n",
       "1352451    2962     38645      1      0  0.520408\n",
       "2820055    2357     23579      0      4  0.991866\n",
       "2929571    2814     36773      0      2  0.020286\n",
       "2257451    4906     23242      1      0  0.161296\n",
       "\n",
       "[170623 rows x 5 columns]"
      ]
     },
     "execution_count": 273,
     "metadata": {},
     "output_type": "execute_result"
    }
   ],
   "source": [
    "test_pred"
   ]
  },
  {
   "cell_type": "code",
   "execution_count": 274,
   "metadata": {},
   "outputs": [],
   "source": [
    "test_pred = eligible_test.copy()\n",
    "\n",
    "test_pred['score'] = data"
   ]
  },
  {
   "cell_type": "code",
   "execution_count": 275,
   "metadata": {},
   "outputs": [
    {
     "data": {
      "text/plain": [
       "0.6976837787888279"
      ]
     },
     "execution_count": 275,
     "metadata": {},
     "output_type": "execute_result"
    }
   ],
   "source": [
    "test_pred.groupby('userId').apply(lambda group: ndcg_score([group['plays']], [group['score']])).mean()"
   ]
  },
  {
   "cell_type": "code",
   "execution_count": null,
   "metadata": {},
   "outputs": [],
   "source": []
  }
 ],
 "metadata": {
  "coursera": {
   "schema_names": [
    "recsystask"
   ]
  },
  "kernelspec": {
   "display_name": "Python 3 (ipykernel)",
   "language": "python",
   "name": "python3"
  },
  "language_info": {
   "codemirror_mode": {
    "name": "ipython",
    "version": 3
   },
   "file_extension": ".py",
   "mimetype": "text/x-python",
   "name": "python",
   "nbconvert_exporter": "python",
   "pygments_lexer": "ipython3",
   "version": "3.7.10"
  }
 },
 "nbformat": 4,
 "nbformat_minor": 2
}
